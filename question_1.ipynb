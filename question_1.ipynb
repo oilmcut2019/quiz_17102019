{
 "cells": [
  {
   "cell_type": "markdown",
   "metadata": {
    "collapsed": true
   },
   "source": [
    "Question_1\n",
    "\n",
    "英文: The keyboard enters a set of four digits of integer and prints a string of spaces separated by spaces.\n",
    "<br>\n",
    "中文: 鍵盤輸入一組四位數的整數，印出每個位數以空格分開的字串。\n",
    "\n",
    "\n",
    "Input    |Output  |\n",
    "---------|--------|\n",
    "1234     |1 2 3 4 |"
   ]
  },
  {
   "cell_type": "code",
   "execution_count": 1,
   "metadata": {},
   "outputs": [
    {
     "name": "stdout",
     "output_type": "stream",
     "text": [
      "1234\n",
      "1 2 3 4\n"
     ]
    }
   ],
   "source": [
    "x=int(input())\n",
    "a,b,c,d=str(x//1000),str((x//100)%10),str((x//10)%10),str(x%10)\n",
    "print(a+\" \"+b+\" \"+c+\" \"+d)"
   ]
  }
 ],
 "metadata": {
  "kernelspec": {
   "display_name": "Python 3",
   "language": "python",
   "name": "python3"
  },
  "language_info": {
   "codemirror_mode": {
    "name": "ipython",
    "version": 3
   },
   "file_extension": ".py",
   "mimetype": "text/x-python",
   "name": "python",
   "nbconvert_exporter": "python",
   "pygments_lexer": "ipython3",
   "version": "3.6.7"
  }
 },
 "nbformat": 4,
 "nbformat_minor": 2
}
