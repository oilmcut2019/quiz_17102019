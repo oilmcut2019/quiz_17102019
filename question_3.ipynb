{
 "cells": [
  {
   "cell_type": "markdown",
   "metadata": {
    "collapsed": true
   },
   "source": [
    "Question_3\n",
    "\n",
    "英文: The keyboard enters two sets of four-digit integers, prints the number of integers with the same number and the same number + \"A\", and the number with the same number but the wrong number of bits + \"B\".\n",
    "<br>\n",
    "中文: 鍵盤輸入兩組四位數的整數，印出整數位數相同且數字也相同的數量+\"A\"，以及有相同數字但位數不對的數量+\"B\"。\n",
    "\n",
    "\n",
    "Input    | Output |\n",
    "---------|--------|\n",
    "1234     |2A2B    |\n",
    "1243     |"
   ]
  },
  {
   "cell_type": "code",
   "execution_count": 3,
   "metadata": {},
   "outputs": [
    {
     "name": "stdout",
     "output_type": "stream",
     "text": [
      "1234\n",
      "1243\n",
      "2A2B\n"
     ]
    }
   ],
   "source": [
    "x=int(input())\n",
    "y=int(input())\n",
    "a,b,c,d=str(x//1000),str((x//100)%10),str((x//10)%10),str(x%10)\n",
    "e,f,g,h=str(y//1000),str((y//100)%10),str((y//10)%10),str(y%10)\n",
    "x=str(x)\n",
    "z=(a==e) + (b==f) + (c==g) + (d==h)\n",
    "a=(e in x)+(f in x)+(g in x)+(h in x)-z\n",
    "print(str(z)+\"A\"+str(a)+\"B\")"
   ]
  }
 ],
 "metadata": {
  "kernelspec": {
   "display_name": "Python 3",
   "language": "python",
   "name": "python3"
  },
  "language_info": {
   "codemirror_mode": {
    "name": "ipython",
    "version": 3
   },
   "file_extension": ".py",
   "mimetype": "text/x-python",
   "name": "python",
   "nbconvert_exporter": "python",
   "pygments_lexer": "ipython3",
   "version": "3.6.7"
  }
 },
 "nbformat": 4,
 "nbformat_minor": 2
}
