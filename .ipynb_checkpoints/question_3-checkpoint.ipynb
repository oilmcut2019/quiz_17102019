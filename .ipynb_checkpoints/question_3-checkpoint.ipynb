{
 "cells": [
  {
   "cell_type": "markdown",
   "metadata": {
    "collapsed": true
   },
   "source": [
    "Question_3\n",
    "\n",
    "英文: The keyboard enters two sets of four-digit integers, prints the number of integers with the same number and the same number + \"A\", and the number with the same number but the wrong number of bits + \"B\".\n",
    "<br>\n",
    "中文: 鍵盤輸入兩組四位數的整數，印出整數位數相同且數字也相同的數量+\"A\"，以及有相同數字但位數不對的數量+\"B\"。\n",
    "\n",
    "\n",
    "Input    | Output |\n",
    "---------|--------|\n",
    "1234     |2A2B    |\n",
    "1243     |"
   ]
  },
  {
   "cell_type": "code",
   "execution_count": null,
   "metadata": {},
   "outputs": [],
   "source": []
  }
 ],
 "metadata": {
  "kernelspec": {
   "display_name": "Python 3",
   "language": "python",
   "name": "python3"
  },
  "language_info": {
   "codemirror_mode": {
    "name": "ipython",
    "version": 3
   },
   "file_extension": ".py",
   "mimetype": "text/x-python",
   "name": "python",
   "nbconvert_exporter": "python",
   "pygments_lexer": "ipython3",
   "version": "3.6.7"
  }
 },
 "nbformat": 4,
 "nbformat_minor": 2
}
