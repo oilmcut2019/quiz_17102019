{
 "cells": [
  {
   "cell_type": "markdown",
   "metadata": {
    "collapsed": true
   },
   "source": [
    "Question_2\n",
    "\n",
    "英文: The keyboard enters two sets of four-digit integers, and prints the same number of integer digits and the same number.\n",
    "<br>\n",
    "中文: 鍵盤輸入兩組四位數的整數，印出整數位數相同且數字也相同的數量。\n",
    "\n",
    "Input    | Output |\n",
    "---------|--------|\n",
    "1234     |3       |\n",
    "1235     |"
   ]
  },
  {
   "cell_type": "code",
   "execution_count": 2,
   "metadata": {},
   "outputs": [
    {
     "name": "stdout",
     "output_type": "stream",
     "text": [
      "1234\n",
      "1235\n",
      "3\n"
     ]
    }
   ],
   "source": [
    "x=int(input())\n",
    "y=int(input())\n",
    "a,b,c,d=x//1000,(x//100)%10,(x//10)%10,x%10\n",
    "e,f,g,h=y//1000,(y//100)%10,(y//10)%10,y%10\n",
    "z=(a==e) + (b==f) + (c==g) + (d==h)\n",
    "print(z)"
   ]
  }
 ],
 "metadata": {
  "kernelspec": {
   "display_name": "Python 3",
   "language": "python",
   "name": "python3"
  },
  "language_info": {
   "codemirror_mode": {
    "name": "ipython",
    "version": 3
   },
   "file_extension": ".py",
   "mimetype": "text/x-python",
   "name": "python",
   "nbconvert_exporter": "python",
   "pygments_lexer": "ipython3",
   "version": "3.6.7"
  }
 },
 "nbformat": 4,
 "nbformat_minor": 2
}
