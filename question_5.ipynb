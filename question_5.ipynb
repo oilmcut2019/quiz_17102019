{
 "cells": [
  {
   "cell_type": "markdown",
   "metadata": {},
   "source": [
    "Question_5\n",
    "\n",
    "英文:The keyboard enters a set of values and then outputs the Gray code for that value.\n",
    "<br>\n",
    "中文: 鍵盤輸入一組數值，然後輸出該數值的格雷碼。\n",
    "\n",
    "\n",
    "\n",
    "Input   | Output |\n",
    "--------|--------|\n",
    "21      |31      |"
   ]
  },
  {
   "cell_type": "code",
   "execution_count": 3,
   "metadata": {},
   "outputs": [
    {
     "name": "stdout",
     "output_type": "stream",
     "text": [
      "21\n",
      "31\n"
     ]
    }
   ],
   "source": [
    "z=s=int(input())\n",
    "s>>=1\n",
    "print(z^s)"
   ]
  }
 ],
 "metadata": {
  "kernelspec": {
   "display_name": "Python 3",
   "language": "python",
   "name": "python3"
  },
  "language_info": {
   "codemirror_mode": {
    "name": "ipython",
    "version": 3
   },
   "file_extension": ".py",
   "mimetype": "text/x-python",
   "name": "python",
   "nbconvert_exporter": "python",
   "pygments_lexer": "ipython3",
   "version": "3.6.7"
  }
 },
 "nbformat": 4,
 "nbformat_minor": 2
}
